{
 "cells": [
  {
   "cell_type": "code",
   "execution_count": 1,
   "metadata": {},
   "outputs": [],
   "source": [
    "from bs4 import BeautifulSoup\n",
    "import json"
   ]
  },
  {
   "cell_type": "code",
   "execution_count": 2,
   "metadata": {},
   "outputs": [],
   "source": [
    "info = {'Journal' : {'tag' : 'span' ,\n",
    "                    'class' : 'browse-title',\n",
    "                    'file' : 'ACM Journal.html'},\n",
    "       'Magazine' : {'tag' : 'div' ,\n",
    "                    'class' : \"colored-block__title clearfix\",\n",
    "                    'file' : 'ACM Magazine.html'},\n",
    "       'Proceedings' : {'tag' : 'span' ,\n",
    "                    'class' : \"title\",\n",
    "                    'file' : 'ACM Proceedings.html'},\n",
    "       'Books' : {'tag' : 'h5' ,\n",
    "                    'class' : \"issue-item__title\",\n",
    "                    'file' : 'ACM Book Archive.html'},\n",
    "       'SIGs' : {'tag' : 'h4' ,\n",
    "                    'class' : \"search__item-title\",\n",
    "                    'file' : 'ACM SIG.html'},\n",
    "       'Conferences' : {'tag' : 'h4' ,\n",
    "                    'class' : \"search__item-title\",\n",
    "                    'file' : 'ACM Conferences.html'}}\n"
   ]
  },
  {
   "cell_type": "code",
   "execution_count": 5,
   "metadata": {},
   "outputs": [
    {
     "name": "stdout",
     "output_type": "stream",
     "text": [
      "Getting Journal ...\n",
      "Getting Magazine ...\n",
      "Getting Proceedings ...\n",
      "Getting Books ...\n",
      "Getting SIGs ...\n",
      "Getting Conferences ...\n"
     ]
    }
   ],
   "source": [
    "results = {}\n",
    "for item in info.items():\n",
    "    print(f'Getting {item[0]} ...')\n",
    "    with open(f'./html_files/{item[1][\"file\"]}') as file:\n",
    "        data = file.readlines()\n",
    "    r = ' '.join(data)\n",
    "    soup = BeautifulSoup(r)\n",
    "    objects = soup.find_all(item[1]['tag'], class_ = item[1]['class'])\n",
    "    res = [x.get_text().strip().replace('\\n',' ') for x in objects if len(x.get_text().strip()) > 2 ]\n",
    "    results[item[0]] = res\n"
   ]
  },
  {
   "cell_type": "code",
   "execution_count": 6,
   "metadata": {},
   "outputs": [],
   "source": [
    "results_json = json.dumps(results)"
   ]
  },
  {
   "cell_type": "code",
   "execution_count": 12,
   "metadata": {},
   "outputs": [],
   "source": [
    "with open('rsesults.json', 'w') as file:\n",
    "    json.dump(results, file)"
   ]
  },
  {
   "cell_type": "code",
   "execution_count": null,
   "metadata": {},
   "outputs": [],
   "source": []
  }
 ],
 "metadata": {
  "kernelspec": {
   "display_name": "Python 3",
   "language": "python",
   "name": "python3"
  },
  "language_info": {
   "codemirror_mode": {
    "name": "ipython",
    "version": 3
   },
   "file_extension": ".py",
   "mimetype": "text/x-python",
   "name": "python",
   "nbconvert_exporter": "python",
   "pygments_lexer": "ipython3",
   "version": "3.7.4"
  },
  "toc": {
   "base_numbering": 1,
   "nav_menu": {},
   "number_sections": true,
   "sideBar": true,
   "skip_h1_title": false,
   "title_cell": "Table of Contents",
   "title_sidebar": "Contents",
   "toc_cell": false,
   "toc_position": {},
   "toc_section_display": true,
   "toc_window_display": false
  }
 },
 "nbformat": 4,
 "nbformat_minor": 2
}